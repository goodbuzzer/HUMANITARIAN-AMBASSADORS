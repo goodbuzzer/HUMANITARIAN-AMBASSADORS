{
 "cells": [
  {
   "cell_type": "code",
   "execution_count": 11,
   "metadata": {},
   "outputs": [],
   "source": [
    "import pandas as pd\n",
    "import numpy as np\n",
    "import random\n",
    "from faker import Faker"
   ]
  },
  {
   "cell_type": "code",
   "execution_count": 14,
   "metadata": {},
   "outputs": [],
   "source": [
    "mention = ['Tres_faible','Faible','Insuffisant','Mediocre','Passable','Assez_bien','Bien','Tres_Bien','Excellent','Parfait']\n",
    "mentions = [i.upper() for i in mention]\n",
    "score = np.arange(0,20.25,0.25)\n",
    "type(score)\n",
    "np.random.choice(score)\n",
    "\n",
    "def note_matiere(matiere):\n",
    "    n = 0\n",
    "    score = np.arange(0,20.25,0.25)\n",
    "    \n",
    "    if matiere == 'orthographe' :\n",
    "        n = np.arange(0,15.25,0.25)\n",
    "    elif matiere == 'etude de texte' :\n",
    "        n = np.arange(4,18.25,0.25)\n",
    "    elif matiere in ('expression écrite','expression orale') :\n",
    "        n = np.arange(4,18.25,0.25)\n",
    "    elif matiere in ('anglais','espagnol','svteehb') :\n",
    "        n = np.arange(4,17.25,0.25)\n",
    "    elif matiere == 'mathématiques':\n",
    "        n = np.arange(4,18.25,0.25)\n",
    "    elif matiere == 'informatique':\n",
    "        n = np.arange(5,18.25,0.25)\n",
    "    elif matiere == 'travail manuel':\n",
    "        n = np.arange(13,20.25,0.5)\n",
    "    else:\n",
    "        n = np.random.choice(score)\n",
    "        \n",
    "    return np.random.choice(n)\n",
    "        \n",
    "        \n",
    "    \n",
    "        \n",
    "        \n",
    "        "
   ]
  },
  {
   "cell_type": "code",
   "execution_count": 3,
   "metadata": {},
   "outputs": [],
   "source": [
    "#FONCTION POUR CREER UN EXCEL\n",
    "\n",
    "def creer_fichier_excel(nom_fichier, colonnes):\n",
    "    \"\"\"\n",
    "    Crée un fichier Excel avec des colonnes prédéfinies.\n",
    "\n",
    "    :param nom_fichier: Nom du fichier Excel à créer (par exemple 'exemple.xlsx').\n",
    "    :param colonnes: Liste des noms de colonnes à ajouter au fichier Excel.\n",
    "    \"\"\"\n",
    "    # Créer un DataFrame vide avec les colonnes spécifiées\n",
    "    df = pd.DataFrame(columns=colonnes)\n",
    "    \n",
    "    # Enregistrer le DataFrame dans un fichier Excel\n",
    "    df.to_excel(nom_fichier, index=False)\n",
    "\n",
    "# GENERER DES NOMS FACTICES\n",
    "\n",
    "fake = Faker()\n",
    "\n",
    "def generer_nom():\n",
    "    \"\"\"\n",
    "    Génère un nom complet composé d'un prénom et d'un nom de famille.\n",
    "\n",
    "    :return: Une chaîne de caractères représentant un nom complet.\n",
    "    \"\"\"\n",
    "    prenom = fake.first_name()\n",
    "    nom = fake.last_name()\n",
    "    nom_complet = f\"{prenom} {nom}\"\n",
    "    return nom_complet\n",
    "\n",
    "\n",
    "#FONCTION DE GENERATION DES HEURES D'ABSENCES\n",
    "\n",
    "def generer_heures_absence():\n",
    "    \"\"\"\n",
    "    Génère un nombre d'heures d'absence entre 0 et 15, avec une forte probabilité\n",
    "    d'obtenir une valeur entre 0 et 3.\n",
    "\n",
    "    :return: Un nombre d'heures d'absence.\n",
    "    \"\"\"\n",
    "    heures = list(range(16))  # Valeurs possibles de 0 à 15\n",
    "    # Poids pour chaque heure, avec une forte probabilité pour les valeurs entre 0 et 3\n",
    "    poids = [0.25, 0.25, 0.25, 0.25] + [0.05] * 12\n",
    "    return random.choices(heures, weights=poids, k=1)[0]\n",
    "\n",
    "#FONCTION POUR GENERER MATRICULE\n",
    "def generer_matricule(annee,classe):\n",
    "    return f\"{annee[0:2]}{classe}{random.randint(100,999)}\"\n",
    "\n"
   ]
  },
  {
   "cell_type": "code",
   "execution_count": 4,
   "metadata": {},
   "outputs": [
    {
     "data": {
      "text/plain": [
       "Index(['matricule', 'classe', 'nom', 'sexe', 'age', 'redoublant', 'absence',\n",
       "       'annee', 'sequence', 'moyenne', 'rang', 'promu', 'exclu'],\n",
       "      dtype='object')"
      ]
     },
     "execution_count": 4,
     "metadata": {},
     "output_type": "execute_result"
    }
   ],
   "source": [
    "#RECUPERER LES COLONNES DU TEMPLATE\n",
    "\n",
    "df = pd.read_excel(\"Notes_3e.xlsx\")\n",
    "colonnes = df.columns\n",
    "colonnes\n"
   ]
  },
  {
   "cell_type": "code",
   "execution_count": 5,
   "metadata": {},
   "outputs": [
    {
     "data": {
      "text/plain": [
       "dict_keys(['Orthographe', 'Etude de texte ', 'Expression écrite', 'Expression orale', 'Anglais', 'Espagnol', 'Mathématiques', 'SVTEEHB', 'Physique-Chimie-Technologie', 'Education à la citoy. Morale', 'Histoire/Geographie', 'Education Physique et Sportive', 'Informatique', 'Travail Manuel', 'Education à la citoy. morale'])"
      ]
     },
     "execution_count": 5,
     "metadata": {},
     "output_type": "execute_result"
    }
   ],
   "source": [
    "df = pd.read_excel(\"3data.xlsx\")\n",
    "matieres = df[\"matiere\"].unique()\n",
    "coefs = df[\"coef\"].unique()\n",
    "dico = dict(zip(matieres,coefs))\n",
    "dico.keys()"
   ]
  },
  {
   "cell_type": "code",
   "execution_count": 7,
   "metadata": {},
   "outputs": [],
   "source": [
    "import pandas as pd\n",
    "from faker import Faker\n",
    "import random\n",
    "\n",
    "fake = Faker()\n",
    "\n",
    "def remplir_fichier_excel(nom_fichier, colonnes, matieres, nombre_de_lignes):\n",
    "    \"\"\"\n",
    "    Remplit un fichier Excel existant avec des données générées aléatoirement.\n",
    "\n",
    "    :param nom_fichier: Nom du fichier Excel à remplir.\n",
    "    :param colonnes: Liste des noms de colonnes du fichier Excel.\n",
    "    :param nombre_de_lignes: Nombre de lignes de données à générer.\n",
    "    \"\"\"\n",
    "    score = np.arange(0,20.25,0.25)\n",
    "    data = []\n",
    "    annee = \"2020-2021\"\n",
    "    classe = \"3eme\"\n",
    "    for _ in range(nombre_de_lignes):\n",
    "        ligne = {}\n",
    "        for colonne in colonnes:\n",
    "            if colonne.lower() == 'matricule':\n",
    "                ligne[colonne] = generer_matricule(annee,classe.upper())\n",
    "            elif colonne.lower() == 'classe':\n",
    "                ligne[colonne] = classe\n",
    "            elif colonne.lower() == 'nom':\n",
    "                ligne[colonne] = generer_nom()\n",
    "            elif colonne.lower() == 'sexe':\n",
    "                ligne[colonne] = random.choice(['M', 'F'])\n",
    "            elif colonne.lower() == 'age':\n",
    "                ligne[colonne] = random.randint(12, 20)\n",
    "            elif colonne.lower() == 'redoublant':\n",
    "                ligne[colonne] = random.choice(['Oui', 'Non'])\n",
    "            elif colonne.lower() == 'absence':\n",
    "                ligne[colonne] = generer_heures_absence()\n",
    "            elif colonne.lower() == 'annee':\n",
    "                ligne[colonne] = annee\n",
    "            elif colonne.lower() == 'sequence':\n",
    "                ligne[colonne] = random.randint(1, 2)\n",
    "            else:\n",
    "                ligne[colonne] = \"\"\n",
    "                \n",
    "        data.append(ligne)\n",
    "    \n",
    "    # Charger le fichier Excel existant\n",
    "    df = pd.read_excel(nom_fichier)\n",
    "    \n",
    "    # Ajouter les nouvelles lignes de données\n",
    "    df = df._append(data, ignore_index=True)\n",
    "    \n",
    "    # Enregistrer les modifications dans le fichier Excel\n",
    "    df.to_excel(nom_fichier, index=False)\n",
    "\n",
    "# Exemple d'utilisation\n",
    "\n",
    "df = pd.read_excel(\"Notes_3e.xlsx\")\n",
    "dff = pd.read_excel(\"3data.xlsx\")\n",
    "matieres = dff[\"matiere\"].unique()\n",
    "colonnes = np.concatenate((df.columns,matieres),axis=0)\n",
    "nom_fichier = 'exemple.xlsx'\n",
    "\n",
    "creer_fichier_excel(nom_fichier, colonnes)\n",
    "remplir_fichier_excel(nom_fichier, colonnes, matieres, 50)\n"
   ]
  },
  {
   "cell_type": "code",
   "execution_count": 10,
   "metadata": {},
   "outputs": [
    {
     "ename": "ValueError",
     "evalue": "a must be 1-dimensional or an integer",
     "output_type": "error",
     "traceback": [
      "\u001b[1;31m---------------------------------------------------------------------------\u001b[0m",
      "\u001b[1;31mTypeError\u001b[0m                                 Traceback (most recent call last)",
      "File \u001b[1;32mmtrand.pyx:924\u001b[0m, in \u001b[0;36mnumpy.random.mtrand.RandomState.choice\u001b[1;34m()\u001b[0m\n",
      "\u001b[1;31mTypeError\u001b[0m: 'float' object cannot be interpreted as an integer",
      "\nDuring handling of the above exception, another exception occurred:\n",
      "\u001b[1;31mValueError\u001b[0m                                Traceback (most recent call last)",
      "Cell \u001b[1;32mIn[10], line 24\u001b[0m\n\u001b[0;32m     21\u001b[0m     df\u001b[38;5;241m.\u001b[39mto_excel(nom_fichier, index\u001b[38;5;241m=\u001b[39m\u001b[38;5;28;01mFalse\u001b[39;00m)\n\u001b[0;32m     23\u001b[0m nom_fichier \u001b[38;5;241m=\u001b[39m \u001b[38;5;124m'\u001b[39m\u001b[38;5;124mexemple.xlsx\u001b[39m\u001b[38;5;124m'\u001b[39m         \n\u001b[1;32m---> 24\u001b[0m \u001b[43mremplir_notes\u001b[49m\u001b[43m(\u001b[49m\u001b[43mnom_fichier\u001b[49m\u001b[43m,\u001b[49m\u001b[43mmatieres\u001b[49m\u001b[43m,\u001b[49m\u001b[38;5;241;43m50\u001b[39;49m\u001b[43m)\u001b[49m\n",
      "Cell \u001b[1;32mIn[10], line 12\u001b[0m, in \u001b[0;36mremplir_notes\u001b[1;34m(nom_fichier, matieres, nombre_de_lignes)\u001b[0m\n\u001b[0;32m     10\u001b[0m  ligne \u001b[38;5;241m=\u001b[39m {}\n\u001b[0;32m     11\u001b[0m  \u001b[38;5;28;01mfor\u001b[39;00m matiere \u001b[38;5;129;01min\u001b[39;00m matieres:\n\u001b[1;32m---> 12\u001b[0m      ligne[matiere] \u001b[38;5;241m=\u001b[39m  \u001b[43mnote_matiere\u001b[49m\u001b[43m(\u001b[49m\u001b[43mmatiere\u001b[49m\u001b[43m)\u001b[49m\n\u001b[0;32m     13\u001b[0m  data\u001b[38;5;241m.\u001b[39mappend(ligne)\n\u001b[0;32m     14\u001b[0m \u001b[38;5;66;03m# Charger le fichier Excel existant\u001b[39;00m\n",
      "Cell \u001b[1;32mIn[2], line 28\u001b[0m, in \u001b[0;36mnote_matiere\u001b[1;34m(matiere)\u001b[0m\n\u001b[0;32m     25\u001b[0m \u001b[38;5;28;01melse\u001b[39;00m:\n\u001b[0;32m     26\u001b[0m     n \u001b[38;5;241m=\u001b[39m np\u001b[38;5;241m.\u001b[39mrandom\u001b[38;5;241m.\u001b[39mchoice(score)\n\u001b[1;32m---> 28\u001b[0m \u001b[38;5;28;01mreturn\u001b[39;00m \u001b[43mnp\u001b[49m\u001b[38;5;241;43m.\u001b[39;49m\u001b[43mrandom\u001b[49m\u001b[38;5;241;43m.\u001b[39;49m\u001b[43mchoice\u001b[49m\u001b[43m(\u001b[49m\u001b[43mn\u001b[49m\u001b[43m)\u001b[49m\n",
      "File \u001b[1;32mmtrand.pyx:926\u001b[0m, in \u001b[0;36mnumpy.random.mtrand.RandomState.choice\u001b[1;34m()\u001b[0m\n",
      "\u001b[1;31mValueError\u001b[0m: a must be 1-dimensional or an integer"
     ]
    }
   ],
   "source": [
    "import openpyxl\n",
    "\n",
    "dff = pd.read_excel(\"3data.xlsx\")\n",
    "matieres = dff[\"matiere\"].unique()\n",
    "\n",
    "def remplir_notes(nom_fichier,matieres,nombre_de_lignes):\n",
    "    data = []\n",
    "    score = np.arange(0,20.25,0.25)\n",
    "    for _ in range(nombre_de_lignes):\n",
    "        ligne = {}\n",
    "        for matiere in matieres:\n",
    "            ligne[matiere] =  note_matiere(matiere)\n",
    "        data.append(ligne)\n",
    "       # Charger le fichier Excel existant\n",
    "    df = pd.read_excel(nom_fichier)\n",
    "    \n",
    "    # Ajouter les nouvelles lignes de données\n",
    "    df = df._append(data, ignore_index=True)\n",
    "    \n",
    "    # Enregistrer les modifications dans le fichier Excel\n",
    "    df.to_excel(nom_fichier, index=False)\n",
    "\n",
    "nom_fichier = 'exemple.xlsx'         \n",
    "remplir_notes(nom_fichier,matieres,50)\n",
    "        "
   ]
  }
 ],
 "metadata": {
  "kernelspec": {
   "display_name": "Python 3",
   "language": "python",
   "name": "python3"
  },
  "language_info": {
   "codemirror_mode": {
    "name": "ipython",
    "version": 3
   },
   "file_extension": ".py",
   "mimetype": "text/x-python",
   "name": "python",
   "nbconvert_exporter": "python",
   "pygments_lexer": "ipython3",
   "version": "3.11.4"
  }
 },
 "nbformat": 4,
 "nbformat_minor": 2
}
